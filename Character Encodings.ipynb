{
 "cells": [
  {
   "cell_type": "markdown",
   "id": "a8fdc575",
   "metadata": {
    "papermill": {
     "duration": 0.004198,
     "end_time": "2025-07-07T17:16:30.476486",
     "exception": false,
     "start_time": "2025-07-07T17:16:30.472288",
     "status": "completed"
    },
    "tags": []
   },
   "source": [
    "**This notebook is an exercise in the [Data Cleaning](https://www.kaggle.com/learn/data-cleaning) course.  You can reference the tutorial at [this link](https://www.kaggle.com/alexisbcook/character-encodings).**\n",
    "\n",
    "---\n"
   ]
  },
  {
   "cell_type": "markdown",
   "id": "14fb6ea3",
   "metadata": {
    "papermill": {
     "duration": 0.003357,
     "end_time": "2025-07-07T17:16:30.483416",
     "exception": false,
     "start_time": "2025-07-07T17:16:30.480059",
     "status": "completed"
    },
    "tags": []
   },
   "source": [
    "In this exercise, you'll apply what you learned in the **Character encodings** tutorial.\n",
    "\n",
    "# Setup\n",
    "\n",
    "The questions below will give you feedback on your work. Run the following cell to set up the feedback system."
   ]
  },
  {
   "cell_type": "code",
   "execution_count": 1,
   "id": "35732f96",
   "metadata": {
    "execution": {
     "iopub.execute_input": "2025-07-07T17:16:30.491359Z",
     "iopub.status.busy": "2025-07-07T17:16:30.491006Z",
     "iopub.status.idle": "2025-07-07T17:16:32.432084Z",
     "shell.execute_reply": "2025-07-07T17:16:32.431162Z"
    },
    "papermill": {
     "duration": 1.946751,
     "end_time": "2025-07-07T17:16:32.433615",
     "exception": false,
     "start_time": "2025-07-07T17:16:30.486864",
     "status": "completed"
    },
    "tags": []
   },
   "outputs": [
    {
     "name": "stdout",
     "output_type": "stream",
     "text": [
      "Setup Complete\n"
     ]
    }
   ],
   "source": [
    "from learntools.core import binder\n",
    "binder.bind(globals())\n",
    "from learntools.data_cleaning.ex4 import *\n",
    "print(\"Setup Complete\")"
   ]
  },
  {
   "cell_type": "markdown",
   "id": "48d1d00e",
   "metadata": {
    "papermill": {
     "duration": 0.003261,
     "end_time": "2025-07-07T17:16:32.440523",
     "exception": false,
     "start_time": "2025-07-07T17:16:32.437262",
     "status": "completed"
    },
    "tags": []
   },
   "source": [
    "# Get our environment set up\n",
    "\n",
    "The first thing we'll need to do is load in the libraries we'll be using."
   ]
  },
  {
   "cell_type": "code",
   "execution_count": 2,
   "id": "99e52a17",
   "metadata": {
    "execution": {
     "iopub.execute_input": "2025-07-07T17:16:32.448687Z",
     "iopub.status.busy": "2025-07-07T17:16:32.448375Z",
     "iopub.status.idle": "2025-07-07T17:16:32.452977Z",
     "shell.execute_reply": "2025-07-07T17:16:32.452157Z"
    },
    "papermill": {
     "duration": 0.010421,
     "end_time": "2025-07-07T17:16:32.454446",
     "exception": false,
     "start_time": "2025-07-07T17:16:32.444025",
     "status": "completed"
    },
    "tags": []
   },
   "outputs": [],
   "source": [
    "# modules we'll use\n",
    "import pandas as pd\n",
    "import numpy as np\n",
    "\n",
    "# helpful character encoding module\n",
    "import charset_normalizer\n",
    "\n",
    "# set seed for reproducibility\n",
    "np.random.seed(0)"
   ]
  },
  {
   "cell_type": "markdown",
   "id": "cc8fc774",
   "metadata": {
    "papermill": {
     "duration": 0.003176,
     "end_time": "2025-07-07T17:16:32.461223",
     "exception": false,
     "start_time": "2025-07-07T17:16:32.458047",
     "status": "completed"
    },
    "tags": []
   },
   "source": [
    "# 1) What are encodings?\n",
    "\n",
    "You're working with a dataset composed of bytes.  Run the code cell below to print a sample entry."
   ]
  },
  {
   "cell_type": "code",
   "execution_count": 3,
   "id": "c5b5f4f0",
   "metadata": {
    "execution": {
     "iopub.execute_input": "2025-07-07T17:16:32.469346Z",
     "iopub.status.busy": "2025-07-07T17:16:32.469014Z",
     "iopub.status.idle": "2025-07-07T17:16:32.474035Z",
     "shell.execute_reply": "2025-07-07T17:16:32.473142Z"
    },
    "papermill": {
     "duration": 0.010745,
     "end_time": "2025-07-07T17:16:32.475430",
     "exception": false,
     "start_time": "2025-07-07T17:16:32.464685",
     "status": "completed"
    },
    "tags": []
   },
   "outputs": [
    {
     "name": "stdout",
     "output_type": "stream",
     "text": [
      "b'\\xa7A\\xa6n'\n",
      "data type: <class 'bytes'>\n"
     ]
    }
   ],
   "source": [
    "sample_entry = b'\\xa7A\\xa6n'\n",
    "print(sample_entry)\n",
    "print('data type:', type(sample_entry))"
   ]
  },
  {
   "cell_type": "markdown",
   "id": "0d8abc31",
   "metadata": {
    "papermill": {
     "duration": 0.003821,
     "end_time": "2025-07-07T17:16:32.486244",
     "exception": false,
     "start_time": "2025-07-07T17:16:32.482423",
     "status": "completed"
    },
    "tags": []
   },
   "source": [
    "You notice that it doesn't use the standard UTF-8 encoding. \n",
    "\n",
    "Use the next code cell to create a variable `new_entry` that changes the encoding from `\"big5-tw\"` to `\"utf-8\"`.  `new_entry` should have the bytes datatype."
   ]
  },
  {
   "cell_type": "code",
   "execution_count": 4,
   "id": "bf26d338",
   "metadata": {
    "execution": {
     "iopub.execute_input": "2025-07-07T17:16:32.496167Z",
     "iopub.status.busy": "2025-07-07T17:16:32.495816Z",
     "iopub.status.idle": "2025-07-07T17:16:32.504554Z",
     "shell.execute_reply": "2025-07-07T17:16:32.503571Z"
    },
    "papermill": {
     "duration": 0.01603,
     "end_time": "2025-07-07T17:16:32.506050",
     "exception": false,
     "start_time": "2025-07-07T17:16:32.490020",
     "status": "completed"
    },
    "tags": []
   },
   "outputs": [
    {
     "data": {
      "application/javascript": [
       "parent.postMessage({\"jupyterEvent\": \"custom.exercise_interaction\", \"data\": {\"outcomeType\": 1, \"valueTowardsCompletion\": 0.3333333333333333, \"interactionType\": 1, \"questionType\": 1, \"questionId\": \"1_EncodingsIntro\", \"learnToolsVersion\": \"0.3.5\", \"failureMessage\": \"\", \"exceptionClass\": \"\", \"trace\": \"\"}}, \"*\")"
      ],
      "text/plain": [
       "<IPython.core.display.Javascript object>"
      ]
     },
     "metadata": {},
     "output_type": "display_data"
    },
    {
     "data": {
      "text/markdown": [
       "<span style=\"color:#33cc33\">Correct</span>"
      ],
      "text/plain": [
       "Correct"
      ]
     },
     "metadata": {},
     "output_type": "display_data"
    }
   ],
   "source": [
    "before = sample_entry.decode(\"big5-tw\")\n",
    "new_entry = before.encode()\n",
    "\n",
    "# Check your answer\n",
    "q1.check()"
   ]
  },
  {
   "cell_type": "code",
   "execution_count": 5,
   "id": "d5e4acd6",
   "metadata": {
    "execution": {
     "iopub.execute_input": "2025-07-07T17:16:32.514731Z",
     "iopub.status.busy": "2025-07-07T17:16:32.514438Z",
     "iopub.status.idle": "2025-07-07T17:16:32.518122Z",
     "shell.execute_reply": "2025-07-07T17:16:32.517428Z"
    },
    "papermill": {
     "duration": 0.009578,
     "end_time": "2025-07-07T17:16:32.519509",
     "exception": false,
     "start_time": "2025-07-07T17:16:32.509931",
     "status": "completed"
    },
    "tags": []
   },
   "outputs": [],
   "source": [
    "# Lines below will give you a hint or solution code\n",
    "#q1.hint()\n",
    "#q1.solution()"
   ]
  },
  {
   "cell_type": "markdown",
   "id": "ec8bded5",
   "metadata": {
    "papermill": {
     "duration": 0.003313,
     "end_time": "2025-07-07T17:16:32.526678",
     "exception": false,
     "start_time": "2025-07-07T17:16:32.523365",
     "status": "completed"
    },
    "tags": []
   },
   "source": [
    "# 2) Reading in files with encoding problems\n",
    "\n",
    "Use the code cell below to read in this file at path `\"../input/fatal-police-shootings-in-the-us/PoliceKillingsUS.csv\"`.  \n",
    "\n",
    "Figure out what the correct encoding should be and read in the file to a DataFrame `police_killings`."
   ]
  },
  {
   "cell_type": "code",
   "execution_count": 6,
   "id": "4772319e",
   "metadata": {
    "execution": {
     "iopub.execute_input": "2025-07-07T17:16:32.535280Z",
     "iopub.status.busy": "2025-07-07T17:16:32.534647Z",
     "iopub.status.idle": "2025-07-07T17:16:32.556321Z",
     "shell.execute_reply": "2025-07-07T17:16:32.555212Z"
    },
    "papermill": {
     "duration": 0.027651,
     "end_time": "2025-07-07T17:16:32.557849",
     "exception": false,
     "start_time": "2025-07-07T17:16:32.530198",
     "status": "completed"
    },
    "tags": []
   },
   "outputs": [
    {
     "data": {
      "application/javascript": [
       "parent.postMessage({\"jupyterEvent\": \"custom.exercise_interaction\", \"data\": {\"outcomeType\": 1, \"valueTowardsCompletion\": 0.3333333333333333, \"interactionType\": 1, \"questionType\": 1, \"questionId\": \"2_ReadIn\", \"learnToolsVersion\": \"0.3.5\", \"failureMessage\": \"\", \"exceptionClass\": \"\", \"trace\": \"\"}}, \"*\")"
      ],
      "text/plain": [
       "<IPython.core.display.Javascript object>"
      ]
     },
     "metadata": {},
     "output_type": "display_data"
    },
    {
     "data": {
      "text/markdown": [
       "<span style=\"color:#33cc33\">Correct</span>"
      ],
      "text/plain": [
       "Correct"
      ]
     },
     "metadata": {},
     "output_type": "display_data"
    }
   ],
   "source": [
    "police_killings = pd.read_csv(\"../input/fatal-police-shootings-in-the-us/PoliceKillingsUS.csv\", encoding='Windows-1252')\n",
    "\n",
    "# Check your answer\n",
    "q2.check()"
   ]
  },
  {
   "cell_type": "markdown",
   "id": "f51831e5",
   "metadata": {
    "papermill": {
     "duration": 0.00357,
     "end_time": "2025-07-07T17:16:32.565418",
     "exception": false,
     "start_time": "2025-07-07T17:16:32.561848",
     "status": "completed"
    },
    "tags": []
   },
   "source": [
    "Feel free to use any additional code cells for supplemental work.  To get credit for finishing this question, you'll need to run `q2.check()` and get a result of **Correct**."
   ]
  },
  {
   "cell_type": "code",
   "execution_count": 7,
   "id": "88dc20e0",
   "metadata": {
    "execution": {
     "iopub.execute_input": "2025-07-07T17:16:32.574058Z",
     "iopub.status.busy": "2025-07-07T17:16:32.573720Z",
     "iopub.status.idle": "2025-07-07T17:16:32.577901Z",
     "shell.execute_reply": "2025-07-07T17:16:32.577200Z"
    },
    "papermill": {
     "duration": 0.010172,
     "end_time": "2025-07-07T17:16:32.579271",
     "exception": false,
     "start_time": "2025-07-07T17:16:32.569099",
     "status": "completed"
    },
    "tags": []
   },
   "outputs": [],
   "source": [
    "# (Optional) Use this code cell for any additional work."
   ]
  },
  {
   "cell_type": "code",
   "execution_count": 8,
   "id": "896d98dc",
   "metadata": {
    "execution": {
     "iopub.execute_input": "2025-07-07T17:16:32.588656Z",
     "iopub.status.busy": "2025-07-07T17:16:32.587999Z",
     "iopub.status.idle": "2025-07-07T17:16:32.592056Z",
     "shell.execute_reply": "2025-07-07T17:16:32.591171Z"
    },
    "papermill": {
     "duration": 0.010522,
     "end_time": "2025-07-07T17:16:32.593783",
     "exception": false,
     "start_time": "2025-07-07T17:16:32.583261",
     "status": "completed"
    },
    "tags": []
   },
   "outputs": [],
   "source": [
    "# Lines below will give you a hint or solution code\n",
    "#q2.hint()\n",
    "#q2.solution()"
   ]
  },
  {
   "cell_type": "markdown",
   "id": "c83c313c",
   "metadata": {
    "papermill": {
     "duration": 0.003601,
     "end_time": "2025-07-07T17:16:32.601527",
     "exception": false,
     "start_time": "2025-07-07T17:16:32.597926",
     "status": "completed"
    },
    "tags": []
   },
   "source": [
    "# 3) Saving your files with UTF-8 encoding\n",
    "\n",
    "Save a version of the police killings dataset to CSV with UTF-8 encoding.  Your answer will be marked correct after saving this file.  \n",
    "\n",
    "Note: When using the `to_csv()` method, supply only the name of the file (e.g., `\"my_file.csv\"`).  This saves the file at the filepath `\"/kaggle/working/my_file.csv\"`."
   ]
  },
  {
   "cell_type": "code",
   "execution_count": 9,
   "id": "771e0c7f",
   "metadata": {
    "execution": {
     "iopub.execute_input": "2025-07-07T17:16:32.610615Z",
     "iopub.status.busy": "2025-07-07T17:16:32.610004Z",
     "iopub.status.idle": "2025-07-07T17:16:32.650084Z",
     "shell.execute_reply": "2025-07-07T17:16:32.649239Z"
    },
    "papermill": {
     "duration": 0.046106,
     "end_time": "2025-07-07T17:16:32.651419",
     "exception": false,
     "start_time": "2025-07-07T17:16:32.605313",
     "status": "completed"
    },
    "tags": []
   },
   "outputs": [
    {
     "data": {
      "application/javascript": [
       "parent.postMessage({\"jupyterEvent\": \"custom.exercise_interaction\", \"data\": {\"outcomeType\": 1, \"valueTowardsCompletion\": 0.3333333333333333, \"interactionType\": 1, \"questionType\": 2, \"questionId\": \"3_SaveCSV\", \"learnToolsVersion\": \"0.3.5\", \"failureMessage\": \"\", \"exceptionClass\": \"\", \"trace\": \"\"}}, \"*\")"
      ],
      "text/plain": [
       "<IPython.core.display.Javascript object>"
      ]
     },
     "metadata": {},
     "output_type": "display_data"
    },
    {
     "data": {
      "text/markdown": [
       "<span style=\"color:#33cc33\">Correct</span>"
      ],
      "text/plain": [
       "Correct"
      ]
     },
     "metadata": {},
     "output_type": "display_data"
    }
   ],
   "source": [
    "police_killings.to_csv(\"my_file.csv\")\n",
    "\n",
    "# Check your answer\n",
    "q3.check()"
   ]
  },
  {
   "cell_type": "code",
   "execution_count": 10,
   "id": "c84cdba1",
   "metadata": {
    "execution": {
     "iopub.execute_input": "2025-07-07T17:16:32.661513Z",
     "iopub.status.busy": "2025-07-07T17:16:32.661204Z",
     "iopub.status.idle": "2025-07-07T17:16:32.665183Z",
     "shell.execute_reply": "2025-07-07T17:16:32.664360Z"
    },
    "papermill": {
     "duration": 0.010947,
     "end_time": "2025-07-07T17:16:32.666706",
     "exception": false,
     "start_time": "2025-07-07T17:16:32.655759",
     "status": "completed"
    },
    "tags": []
   },
   "outputs": [],
   "source": [
    "# Lines below will give you a hint or solution code\n",
    "#q3.hint()\n",
    "#q3.solution()"
   ]
  },
  {
   "cell_type": "markdown",
   "id": "57ea3992",
   "metadata": {
    "papermill": {
     "duration": 0.003821,
     "end_time": "2025-07-07T17:16:32.674719",
     "exception": false,
     "start_time": "2025-07-07T17:16:32.670898",
     "status": "completed"
    },
    "tags": []
   },
   "source": [
    "# (Optional) More practice\n",
    "\n",
    "Check out [this dataset of files in different character encodings](https://www.kaggle.com/rtatman/character-encoding-examples). Can you read in all the files with their original encodings and them save them out as UTF-8 files?\n",
    "\n",
    "If you have a file that's in UTF-8 but has just a couple of weird-looking characters in it, you can try out the [ftfy module](https://ftfy.readthedocs.io/en/latest/#) and see if it helps. \n",
    "\n",
    "# Keep going\n",
    "\n",
    "In the final lesson, learn how to [**clean up inconsistent text entries**](https://www.kaggle.com/alexisbcook/inconsistent-data-entry) in your dataset."
   ]
  },
  {
   "cell_type": "markdown",
   "id": "8ab9456d",
   "metadata": {
    "papermill": {
     "duration": 0.003679,
     "end_time": "2025-07-07T17:16:32.682336",
     "exception": false,
     "start_time": "2025-07-07T17:16:32.678657",
     "status": "completed"
    },
    "tags": []
   },
   "source": [
    "---\n",
    "\n",
    "\n",
    "\n",
    "\n",
    "*Have questions or comments? Visit the [course discussion forum](https://www.kaggle.com/learn/data-cleaning/discussion) to chat with other learners.*"
   ]
  }
 ],
 "metadata": {
  "kaggle": {
   "accelerator": "none",
   "dataSources": [
    {
     "datasetId": 2647,
     "sourceId": 4395,
     "sourceType": "datasetVersion"
    }
   ],
   "isGpuEnabled": false,
   "isInternetEnabled": false,
   "language": "python",
   "sourceType": "notebook"
  },
  "kernelspec": {
   "display_name": "Python 3",
   "language": "python",
   "name": "python3"
  },
  "language_info": {
   "codemirror_mode": {
    "name": "ipython",
    "version": 3
   },
   "file_extension": ".py",
   "mimetype": "text/x-python",
   "name": "python",
   "nbconvert_exporter": "python",
   "pygments_lexer": "ipython3",
   "version": "3.11.11"
  },
  "papermill": {
   "default_parameters": {},
   "duration": 7.501232,
   "end_time": "2025-07-07T17:16:33.205444",
   "environment_variables": {},
   "exception": null,
   "input_path": "__notebook__.ipynb",
   "output_path": "__notebook__.ipynb",
   "parameters": {},
   "start_time": "2025-07-07T17:16:25.704212",
   "version": "2.6.0"
  }
 },
 "nbformat": 4,
 "nbformat_minor": 5
}
